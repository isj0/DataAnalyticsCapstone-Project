{
 "cells": [
  {
   "attachments": {},
   "cell_type": "markdown",
   "id": "e5682262-49ae-4f8b-814d-14470fc58631",
   "metadata": {},
   "source": [
    "\n",
    "Topic: Telco Customer Churn analysis project.\n",
    "\n",
    "Research Question: \"What are the factors that significantly influence customer churn in a telecommunications company, and how can these insights be used to develop effective customer retention strategies?\""
   ]
  },
  {
   "cell_type": "code",
   "execution_count": 3,
   "id": "088841ed-99a7-4fb8-b3c9-d141e9371e9f",
   "metadata": {},
   "outputs": [],
   "source": [
    "# import libraries\n",
    "\n",
    "import pandas as pd\n",
    "import numpy as np\n",
    "import matplotlib.pyplot as plt\n",
    "import seaborn as sns\n",
    "from scipy.stats import ttest_ind\n",
    "from scipy.stats import chi2_contingency\n",
    "import warnings\n",
    "warnings.filterwarnings('ignore')\n"
   ]
  },
  {
   "cell_type": "markdown",
   "id": "7b9bc763-4f30-494e-8b6b-14d88cb05554",
   "metadata": {},
   "source": [
    "## 1. Data Loading and Initial Inspection"
   ]
  },
  {
   "cell_type": "code",
   "execution_count": 6,
   "id": "b4269d3b-6ca5-4153-9244-261cbd174924",
   "metadata": {},
   "outputs": [
    {
     "data": {
      "text/html": [
       "<div>\n",
       "<style scoped>\n",
       "    .dataframe tbody tr th:only-of-type {\n",
       "        vertical-align: middle;\n",
       "    }\n",
       "\n",
       "    .dataframe tbody tr th {\n",
       "        vertical-align: top;\n",
       "    }\n",
       "\n",
       "    .dataframe thead th {\n",
       "        text-align: right;\n",
       "    }\n",
       "</style>\n",
       "<table border=\"1\" class=\"dataframe\">\n",
       "  <thead>\n",
       "    <tr style=\"text-align: right;\">\n",
       "      <th></th>\n",
       "      <th>customerID</th>\n",
       "      <th>gender</th>\n",
       "      <th>SeniorCitizen</th>\n",
       "      <th>Partner</th>\n",
       "      <th>Dependents</th>\n",
       "      <th>tenure</th>\n",
       "      <th>PhoneService</th>\n",
       "      <th>MultipleLines</th>\n",
       "      <th>InternetService</th>\n",
       "      <th>OnlineSecurity</th>\n",
       "      <th>...</th>\n",
       "      <th>DeviceProtection</th>\n",
       "      <th>TechSupport</th>\n",
       "      <th>StreamingTV</th>\n",
       "      <th>StreamingMovies</th>\n",
       "      <th>Contract</th>\n",
       "      <th>PaperlessBilling</th>\n",
       "      <th>PaymentMethod</th>\n",
       "      <th>MonthlyCharges</th>\n",
       "      <th>TotalCharges</th>\n",
       "      <th>Churn</th>\n",
       "    </tr>\n",
       "  </thead>\n",
       "  <tbody>\n",
       "    <tr>\n",
       "      <th>0</th>\n",
       "      <td>7590-VHVEG</td>\n",
       "      <td>Female</td>\n",
       "      <td>0</td>\n",
       "      <td>Yes</td>\n",
       "      <td>No</td>\n",
       "      <td>1</td>\n",
       "      <td>No</td>\n",
       "      <td>No phone service</td>\n",
       "      <td>DSL</td>\n",
       "      <td>No</td>\n",
       "      <td>...</td>\n",
       "      <td>No</td>\n",
       "      <td>No</td>\n",
       "      <td>No</td>\n",
       "      <td>No</td>\n",
       "      <td>Month-to-month</td>\n",
       "      <td>Yes</td>\n",
       "      <td>Electronic check</td>\n",
       "      <td>29.85</td>\n",
       "      <td>29.85</td>\n",
       "      <td>No</td>\n",
       "    </tr>\n",
       "    <tr>\n",
       "      <th>1</th>\n",
       "      <td>5575-GNVDE</td>\n",
       "      <td>Male</td>\n",
       "      <td>0</td>\n",
       "      <td>No</td>\n",
       "      <td>No</td>\n",
       "      <td>34</td>\n",
       "      <td>Yes</td>\n",
       "      <td>No</td>\n",
       "      <td>DSL</td>\n",
       "      <td>Yes</td>\n",
       "      <td>...</td>\n",
       "      <td>Yes</td>\n",
       "      <td>No</td>\n",
       "      <td>No</td>\n",
       "      <td>No</td>\n",
       "      <td>One year</td>\n",
       "      <td>No</td>\n",
       "      <td>Mailed check</td>\n",
       "      <td>56.95</td>\n",
       "      <td>1889.5</td>\n",
       "      <td>No</td>\n",
       "    </tr>\n",
       "    <tr>\n",
       "      <th>2</th>\n",
       "      <td>3668-QPYBK</td>\n",
       "      <td>Male</td>\n",
       "      <td>0</td>\n",
       "      <td>No</td>\n",
       "      <td>No</td>\n",
       "      <td>2</td>\n",
       "      <td>Yes</td>\n",
       "      <td>No</td>\n",
       "      <td>DSL</td>\n",
       "      <td>Yes</td>\n",
       "      <td>...</td>\n",
       "      <td>No</td>\n",
       "      <td>No</td>\n",
       "      <td>No</td>\n",
       "      <td>No</td>\n",
       "      <td>Month-to-month</td>\n",
       "      <td>Yes</td>\n",
       "      <td>Mailed check</td>\n",
       "      <td>53.85</td>\n",
       "      <td>108.15</td>\n",
       "      <td>Yes</td>\n",
       "    </tr>\n",
       "    <tr>\n",
       "      <th>3</th>\n",
       "      <td>7795-CFOCW</td>\n",
       "      <td>Male</td>\n",
       "      <td>0</td>\n",
       "      <td>No</td>\n",
       "      <td>No</td>\n",
       "      <td>45</td>\n",
       "      <td>No</td>\n",
       "      <td>No phone service</td>\n",
       "      <td>DSL</td>\n",
       "      <td>Yes</td>\n",
       "      <td>...</td>\n",
       "      <td>Yes</td>\n",
       "      <td>Yes</td>\n",
       "      <td>No</td>\n",
       "      <td>No</td>\n",
       "      <td>One year</td>\n",
       "      <td>No</td>\n",
       "      <td>Bank transfer (automatic)</td>\n",
       "      <td>42.30</td>\n",
       "      <td>1840.75</td>\n",
       "      <td>No</td>\n",
       "    </tr>\n",
       "    <tr>\n",
       "      <th>4</th>\n",
       "      <td>9237-HQITU</td>\n",
       "      <td>Female</td>\n",
       "      <td>0</td>\n",
       "      <td>No</td>\n",
       "      <td>No</td>\n",
       "      <td>2</td>\n",
       "      <td>Yes</td>\n",
       "      <td>No</td>\n",
       "      <td>Fiber optic</td>\n",
       "      <td>No</td>\n",
       "      <td>...</td>\n",
       "      <td>No</td>\n",
       "      <td>No</td>\n",
       "      <td>No</td>\n",
       "      <td>No</td>\n",
       "      <td>Month-to-month</td>\n",
       "      <td>Yes</td>\n",
       "      <td>Electronic check</td>\n",
       "      <td>70.70</td>\n",
       "      <td>151.65</td>\n",
       "      <td>Yes</td>\n",
       "    </tr>\n",
       "  </tbody>\n",
       "</table>\n",
       "<p>5 rows × 21 columns</p>\n",
       "</div>"
      ],
      "text/plain": [
       "   customerID  gender  SeniorCitizen Partner Dependents  tenure PhoneService  \\\n",
       "0  7590-VHVEG  Female              0     Yes         No       1           No   \n",
       "1  5575-GNVDE    Male              0      No         No      34          Yes   \n",
       "2  3668-QPYBK    Male              0      No         No       2          Yes   \n",
       "3  7795-CFOCW    Male              0      No         No      45           No   \n",
       "4  9237-HQITU  Female              0      No         No       2          Yes   \n",
       "\n",
       "      MultipleLines InternetService OnlineSecurity  ... DeviceProtection  \\\n",
       "0  No phone service             DSL             No  ...               No   \n",
       "1                No             DSL            Yes  ...              Yes   \n",
       "2                No             DSL            Yes  ...               No   \n",
       "3  No phone service             DSL            Yes  ...              Yes   \n",
       "4                No     Fiber optic             No  ...               No   \n",
       "\n",
       "  TechSupport StreamingTV StreamingMovies        Contract PaperlessBilling  \\\n",
       "0          No          No              No  Month-to-month              Yes   \n",
       "1          No          No              No        One year               No   \n",
       "2          No          No              No  Month-to-month              Yes   \n",
       "3         Yes          No              No        One year               No   \n",
       "4          No          No              No  Month-to-month              Yes   \n",
       "\n",
       "               PaymentMethod MonthlyCharges  TotalCharges Churn  \n",
       "0           Electronic check          29.85         29.85    No  \n",
       "1               Mailed check          56.95        1889.5    No  \n",
       "2               Mailed check          53.85        108.15   Yes  \n",
       "3  Bank transfer (automatic)          42.30       1840.75    No  \n",
       "4           Electronic check          70.70        151.65   Yes  \n",
       "\n",
       "[5 rows x 21 columns]"
      ]
     },
     "execution_count": 6,
     "metadata": {},
     "output_type": "execute_result"
    }
   ],
   "source": [
    "# load the dataset\n",
    "df = pd.read_csv('Telco_Customer_Churn.csv')\n",
    "\n",
    "# view the first few rows of data\n",
    "df.head()"
   ]
  },
  {
   "cell_type": "markdown",
   "id": "546f9489-6b88-421e-be99-7db15c4405cf",
   "metadata": {},
   "source": [
    "The SeniorCitizen column can be converted from binary numeric to categorical type"
   ]
  },
  {
   "cell_type": "code",
   "execution_count": 10,
   "id": "13ad8f2e-f169-45a5-8194-2b61530e592b",
   "metadata": {},
   "outputs": [
    {
     "name": "stdout",
     "output_type": "stream",
     "text": [
      "<class 'pandas.core.frame.DataFrame'>\n",
      "RangeIndex: 7043 entries, 0 to 7042\n",
      "Data columns (total 21 columns):\n",
      " #   Column            Non-Null Count  Dtype  \n",
      "---  ------            --------------  -----  \n",
      " 0   customerID        7043 non-null   object \n",
      " 1   gender            7043 non-null   object \n",
      " 2   SeniorCitizen     7043 non-null   int64  \n",
      " 3   Partner           7043 non-null   object \n",
      " 4   Dependents        7043 non-null   object \n",
      " 5   tenure            7043 non-null   int64  \n",
      " 6   PhoneService      7043 non-null   object \n",
      " 7   MultipleLines     7043 non-null   object \n",
      " 8   InternetService   7043 non-null   object \n",
      " 9   OnlineSecurity    7043 non-null   object \n",
      " 10  OnlineBackup      7043 non-null   object \n",
      " 11  DeviceProtection  7043 non-null   object \n",
      " 12  TechSupport       7043 non-null   object \n",
      " 13  StreamingTV       7043 non-null   object \n",
      " 14  StreamingMovies   7043 non-null   object \n",
      " 15  Contract          7043 non-null   object \n",
      " 16  PaperlessBilling  7043 non-null   object \n",
      " 17  PaymentMethod     7043 non-null   object \n",
      " 18  MonthlyCharges    7043 non-null   float64\n",
      " 19  TotalCharges      7043 non-null   object \n",
      " 20  Churn             7043 non-null   object \n",
      "dtypes: float64(1), int64(2), object(18)\n",
      "memory usage: 1.1+ MB\n",
      "None\n"
     ]
    }
   ],
   "source": [
    "# Check dataset information\n",
    "\n",
    "print(df.info())"
   ]
  },
  {
   "cell_type": "markdown",
   "id": "ab3582f1-79b6-4b54-bfeb-60cfd34e9a6b",
   "metadata": {},
   "source": [
    "The column \"TotalCharges\" is of object type and must be converted to numeric type."
   ]
  },
  {
   "cell_type": "code",
   "execution_count": 13,
   "id": "b7cc7acd-5431-4904-b84b-ef9d4343a6f9",
   "metadata": {},
   "outputs": [
    {
     "name": "stdout",
     "output_type": "stream",
     "text": [
      "customerID          0\n",
      "gender              0\n",
      "SeniorCitizen       0\n",
      "Partner             0\n",
      "Dependents          0\n",
      "tenure              0\n",
      "PhoneService        0\n",
      "MultipleLines       0\n",
      "InternetService     0\n",
      "OnlineSecurity      0\n",
      "OnlineBackup        0\n",
      "DeviceProtection    0\n",
      "TechSupport         0\n",
      "StreamingTV         0\n",
      "StreamingMovies     0\n",
      "Contract            0\n",
      "PaperlessBilling    0\n",
      "PaymentMethod       0\n",
      "MonthlyCharges      0\n",
      "TotalCharges        0\n",
      "Churn               0\n",
      "dtype: int64\n"
     ]
    }
   ],
   "source": [
    "# Check for missing values\n",
    "\n",
    "print(df.isnull().sum())"
   ]
  },
  {
   "cell_type": "markdown",
   "id": "306027b4-a976-4169-b3ba-79582342b10d",
   "metadata": {},
   "source": [
    "No missing values in the dataset"
   ]
  },
  {
   "cell_type": "markdown",
   "id": "97c3f5e8-9bb5-459c-a9b1-dfda3a216ba2",
   "metadata": {},
   "source": [
    "## 2. Data Preprocessing"
   ]
  },
  {
   "cell_type": "code",
   "execution_count": 17,
   "id": "291c73e8-5568-4d3a-86c3-c57cdc774282",
   "metadata": {},
   "outputs": [],
   "source": [
    "# Handling empty blank spaces in the column\n",
    "df['TotalCharges'] = df['TotalCharges'].replace(' ', 0)"
   ]
  },
  {
   "cell_type": "code",
   "execution_count": 19,
   "id": "4716aa4d-251a-4a90-9bb9-8184c1f61e66",
   "metadata": {},
   "outputs": [],
   "source": [
    "# Convert 'TotalCharges' to numeric datatype\n",
    "df['TotalCharges'] = df['TotalCharges'].astype(float)"
   ]
  },
  {
   "cell_type": "code",
   "execution_count": 21,
   "id": "4c922cec-50e8-40c4-96f0-dc4814fe0600",
   "metadata": {},
   "outputs": [
    {
     "name": "stdout",
     "output_type": "stream",
     "text": [
      "<class 'pandas.core.frame.DataFrame'>\n",
      "RangeIndex: 7043 entries, 0 to 7042\n",
      "Data columns (total 21 columns):\n",
      " #   Column            Non-Null Count  Dtype  \n",
      "---  ------            --------------  -----  \n",
      " 0   customerID        7043 non-null   object \n",
      " 1   gender            7043 non-null   object \n",
      " 2   SeniorCitizen     7043 non-null   int64  \n",
      " 3   Partner           7043 non-null   object \n",
      " 4   Dependents        7043 non-null   object \n",
      " 5   tenure            7043 non-null   int64  \n",
      " 6   PhoneService      7043 non-null   object \n",
      " 7   MultipleLines     7043 non-null   object \n",
      " 8   InternetService   7043 non-null   object \n",
      " 9   OnlineSecurity    7043 non-null   object \n",
      " 10  OnlineBackup      7043 non-null   object \n",
      " 11  DeviceProtection  7043 non-null   object \n",
      " 12  TechSupport       7043 non-null   object \n",
      " 13  StreamingTV       7043 non-null   object \n",
      " 14  StreamingMovies   7043 non-null   object \n",
      " 15  Contract          7043 non-null   object \n",
      " 16  PaperlessBilling  7043 non-null   object \n",
      " 17  PaymentMethod     7043 non-null   object \n",
      " 18  MonthlyCharges    7043 non-null   float64\n",
      " 19  TotalCharges      7043 non-null   float64\n",
      " 20  Churn             7043 non-null   object \n",
      "dtypes: float64(2), int64(2), object(17)\n",
      "memory usage: 1.1+ MB\n",
      "None\n"
     ]
    }
   ],
   "source": [
    "# Check dataset info again to verify\n",
    "print(df.info())"
   ]
  },
  {
   "cell_type": "code",
   "execution_count": 23,
   "id": "e0064e3d-4b36-4ca3-bf00-42d749008793",
   "metadata": {},
   "outputs": [],
   "source": [
    "# convert 'SeniorCitizen' from (binary) numeric to categorical for better understanding.\n",
    "\n",
    "df['SeniorCitizen'] = df['SeniorCitizen'].apply(lambda x: 'yes' if x == 1 else 'no')"
   ]
  },
  {
   "cell_type": "code",
   "execution_count": 27,
   "id": "c1d21ef9-8889-49b6-9659-ee90c119a24a",
   "metadata": {},
   "outputs": [
    {
     "data": {
      "text/html": [
       "<div>\n",
       "<style scoped>\n",
       "    .dataframe tbody tr th:only-of-type {\n",
       "        vertical-align: middle;\n",
       "    }\n",
       "\n",
       "    .dataframe tbody tr th {\n",
       "        vertical-align: top;\n",
       "    }\n",
       "\n",
       "    .dataframe thead th {\n",
       "        text-align: right;\n",
       "    }\n",
       "</style>\n",
       "<table border=\"1\" class=\"dataframe\">\n",
       "  <thead>\n",
       "    <tr style=\"text-align: right;\">\n",
       "      <th></th>\n",
       "      <th>customerID</th>\n",
       "      <th>gender</th>\n",
       "      <th>SeniorCitizen</th>\n",
       "      <th>Partner</th>\n",
       "      <th>Dependents</th>\n",
       "      <th>tenure</th>\n",
       "      <th>PhoneService</th>\n",
       "      <th>MultipleLines</th>\n",
       "      <th>InternetService</th>\n",
       "      <th>OnlineSecurity</th>\n",
       "      <th>...</th>\n",
       "      <th>DeviceProtection</th>\n",
       "      <th>TechSupport</th>\n",
       "      <th>StreamingTV</th>\n",
       "      <th>StreamingMovies</th>\n",
       "      <th>Contract</th>\n",
       "      <th>PaperlessBilling</th>\n",
       "      <th>PaymentMethod</th>\n",
       "      <th>MonthlyCharges</th>\n",
       "      <th>TotalCharges</th>\n",
       "      <th>Churn</th>\n",
       "    </tr>\n",
       "  </thead>\n",
       "  <tbody>\n",
       "    <tr>\n",
       "      <th>0</th>\n",
       "      <td>7590-VHVEG</td>\n",
       "      <td>Female</td>\n",
       "      <td>no</td>\n",
       "      <td>Yes</td>\n",
       "      <td>No</td>\n",
       "      <td>1</td>\n",
       "      <td>No</td>\n",
       "      <td>No phone service</td>\n",
       "      <td>DSL</td>\n",
       "      <td>No</td>\n",
       "      <td>...</td>\n",
       "      <td>No</td>\n",
       "      <td>No</td>\n",
       "      <td>No</td>\n",
       "      <td>No</td>\n",
       "      <td>Month-to-month</td>\n",
       "      <td>Yes</td>\n",
       "      <td>Electronic check</td>\n",
       "      <td>29.85</td>\n",
       "      <td>29.85</td>\n",
       "      <td>No</td>\n",
       "    </tr>\n",
       "    <tr>\n",
       "      <th>1</th>\n",
       "      <td>5575-GNVDE</td>\n",
       "      <td>Male</td>\n",
       "      <td>no</td>\n",
       "      <td>No</td>\n",
       "      <td>No</td>\n",
       "      <td>34</td>\n",
       "      <td>Yes</td>\n",
       "      <td>No</td>\n",
       "      <td>DSL</td>\n",
       "      <td>Yes</td>\n",
       "      <td>...</td>\n",
       "      <td>Yes</td>\n",
       "      <td>No</td>\n",
       "      <td>No</td>\n",
       "      <td>No</td>\n",
       "      <td>One year</td>\n",
       "      <td>No</td>\n",
       "      <td>Mailed check</td>\n",
       "      <td>56.95</td>\n",
       "      <td>1889.50</td>\n",
       "      <td>No</td>\n",
       "    </tr>\n",
       "    <tr>\n",
       "      <th>2</th>\n",
       "      <td>3668-QPYBK</td>\n",
       "      <td>Male</td>\n",
       "      <td>no</td>\n",
       "      <td>No</td>\n",
       "      <td>No</td>\n",
       "      <td>2</td>\n",
       "      <td>Yes</td>\n",
       "      <td>No</td>\n",
       "      <td>DSL</td>\n",
       "      <td>Yes</td>\n",
       "      <td>...</td>\n",
       "      <td>No</td>\n",
       "      <td>No</td>\n",
       "      <td>No</td>\n",
       "      <td>No</td>\n",
       "      <td>Month-to-month</td>\n",
       "      <td>Yes</td>\n",
       "      <td>Mailed check</td>\n",
       "      <td>53.85</td>\n",
       "      <td>108.15</td>\n",
       "      <td>Yes</td>\n",
       "    </tr>\n",
       "    <tr>\n",
       "      <th>3</th>\n",
       "      <td>7795-CFOCW</td>\n",
       "      <td>Male</td>\n",
       "      <td>no</td>\n",
       "      <td>No</td>\n",
       "      <td>No</td>\n",
       "      <td>45</td>\n",
       "      <td>No</td>\n",
       "      <td>No phone service</td>\n",
       "      <td>DSL</td>\n",
       "      <td>Yes</td>\n",
       "      <td>...</td>\n",
       "      <td>Yes</td>\n",
       "      <td>Yes</td>\n",
       "      <td>No</td>\n",
       "      <td>No</td>\n",
       "      <td>One year</td>\n",
       "      <td>No</td>\n",
       "      <td>Bank transfer (automatic)</td>\n",
       "      <td>42.30</td>\n",
       "      <td>1840.75</td>\n",
       "      <td>No</td>\n",
       "    </tr>\n",
       "    <tr>\n",
       "      <th>4</th>\n",
       "      <td>9237-HQITU</td>\n",
       "      <td>Female</td>\n",
       "      <td>no</td>\n",
       "      <td>No</td>\n",
       "      <td>No</td>\n",
       "      <td>2</td>\n",
       "      <td>Yes</td>\n",
       "      <td>No</td>\n",
       "      <td>Fiber optic</td>\n",
       "      <td>No</td>\n",
       "      <td>...</td>\n",
       "      <td>No</td>\n",
       "      <td>No</td>\n",
       "      <td>No</td>\n",
       "      <td>No</td>\n",
       "      <td>Month-to-month</td>\n",
       "      <td>Yes</td>\n",
       "      <td>Electronic check</td>\n",
       "      <td>70.70</td>\n",
       "      <td>151.65</td>\n",
       "      <td>Yes</td>\n",
       "    </tr>\n",
       "  </tbody>\n",
       "</table>\n",
       "<p>5 rows × 21 columns</p>\n",
       "</div>"
      ],
      "text/plain": [
       "   customerID  gender SeniorCitizen Partner Dependents  tenure PhoneService  \\\n",
       "0  7590-VHVEG  Female            no     Yes         No       1           No   \n",
       "1  5575-GNVDE    Male            no      No         No      34          Yes   \n",
       "2  3668-QPYBK    Male            no      No         No       2          Yes   \n",
       "3  7795-CFOCW    Male            no      No         No      45           No   \n",
       "4  9237-HQITU  Female            no      No         No       2          Yes   \n",
       "\n",
       "      MultipleLines InternetService OnlineSecurity  ... DeviceProtection  \\\n",
       "0  No phone service             DSL             No  ...               No   \n",
       "1                No             DSL            Yes  ...              Yes   \n",
       "2                No             DSL            Yes  ...               No   \n",
       "3  No phone service             DSL            Yes  ...              Yes   \n",
       "4                No     Fiber optic             No  ...               No   \n",
       "\n",
       "  TechSupport StreamingTV StreamingMovies        Contract PaperlessBilling  \\\n",
       "0          No          No              No  Month-to-month              Yes   \n",
       "1          No          No              No        One year               No   \n",
       "2          No          No              No  Month-to-month              Yes   \n",
       "3         Yes          No              No        One year               No   \n",
       "4          No          No              No  Month-to-month              Yes   \n",
       "\n",
       "               PaymentMethod MonthlyCharges  TotalCharges  Churn  \n",
       "0           Electronic check          29.85         29.85     No  \n",
       "1               Mailed check          56.95       1889.50     No  \n",
       "2               Mailed check          53.85        108.15    Yes  \n",
       "3  Bank transfer (automatic)          42.30       1840.75     No  \n",
       "4           Electronic check          70.70        151.65    Yes  \n",
       "\n",
       "[5 rows x 21 columns]"
      ]
     },
     "execution_count": 27,
     "metadata": {},
     "output_type": "execute_result"
    }
   ],
   "source": [
    "# verify changes made\n",
    "\n",
    "df.head()"
   ]
  },
  {
   "cell_type": "code",
   "execution_count": 29,
   "id": "5dd9309e-199d-431e-8ff2-397e16b39ae5",
   "metadata": {},
   "outputs": [
    {
     "data": {
      "text/html": [
       "<div>\n",
       "<style scoped>\n",
       "    .dataframe tbody tr th:only-of-type {\n",
       "        vertical-align: middle;\n",
       "    }\n",
       "\n",
       "    .dataframe tbody tr th {\n",
       "        vertical-align: top;\n",
       "    }\n",
       "\n",
       "    .dataframe thead th {\n",
       "        text-align: right;\n",
       "    }\n",
       "</style>\n",
       "<table border=\"1\" class=\"dataframe\">\n",
       "  <thead>\n",
       "    <tr style=\"text-align: right;\">\n",
       "      <th></th>\n",
       "      <th>tenure</th>\n",
       "      <th>MonthlyCharges</th>\n",
       "      <th>TotalCharges</th>\n",
       "    </tr>\n",
       "  </thead>\n",
       "  <tbody>\n",
       "    <tr>\n",
       "      <th>count</th>\n",
       "      <td>7043.000000</td>\n",
       "      <td>7043.000000</td>\n",
       "      <td>7043.000000</td>\n",
       "    </tr>\n",
       "    <tr>\n",
       "      <th>mean</th>\n",
       "      <td>32.371149</td>\n",
       "      <td>64.761692</td>\n",
       "      <td>2279.734304</td>\n",
       "    </tr>\n",
       "    <tr>\n",
       "      <th>std</th>\n",
       "      <td>24.559481</td>\n",
       "      <td>30.090047</td>\n",
       "      <td>2266.794470</td>\n",
       "    </tr>\n",
       "    <tr>\n",
       "      <th>min</th>\n",
       "      <td>0.000000</td>\n",
       "      <td>18.250000</td>\n",
       "      <td>0.000000</td>\n",
       "    </tr>\n",
       "    <tr>\n",
       "      <th>25%</th>\n",
       "      <td>9.000000</td>\n",
       "      <td>35.500000</td>\n",
       "      <td>398.550000</td>\n",
       "    </tr>\n",
       "    <tr>\n",
       "      <th>50%</th>\n",
       "      <td>29.000000</td>\n",
       "      <td>70.350000</td>\n",
       "      <td>1394.550000</td>\n",
       "    </tr>\n",
       "    <tr>\n",
       "      <th>75%</th>\n",
       "      <td>55.000000</td>\n",
       "      <td>89.850000</td>\n",
       "      <td>3786.600000</td>\n",
       "    </tr>\n",
       "    <tr>\n",
       "      <th>max</th>\n",
       "      <td>72.000000</td>\n",
       "      <td>118.750000</td>\n",
       "      <td>8684.800000</td>\n",
       "    </tr>\n",
       "  </tbody>\n",
       "</table>\n",
       "</div>"
      ],
      "text/plain": [
       "            tenure  MonthlyCharges  TotalCharges\n",
       "count  7043.000000     7043.000000   7043.000000\n",
       "mean     32.371149       64.761692   2279.734304\n",
       "std      24.559481       30.090047   2266.794470\n",
       "min       0.000000       18.250000      0.000000\n",
       "25%       9.000000       35.500000    398.550000\n",
       "50%      29.000000       70.350000   1394.550000\n",
       "75%      55.000000       89.850000   3786.600000\n",
       "max      72.000000      118.750000   8684.800000"
      ]
     },
     "execution_count": 29,
     "metadata": {},
     "output_type": "execute_result"
    }
   ],
   "source": [
    "# check the summary statistics for all numerical columns\n",
    "\n",
    "df.describe()"
   ]
  },
  {
   "cell_type": "code",
   "execution_count": 31,
   "id": "e0272593-4f33-470e-9c51-71f16d2bb13c",
   "metadata": {},
   "outputs": [
    {
     "data": {
      "text/html": [
       "<div>\n",
       "<style scoped>\n",
       "    .dataframe tbody tr th:only-of-type {\n",
       "        vertical-align: middle;\n",
       "    }\n",
       "\n",
       "    .dataframe tbody tr th {\n",
       "        vertical-align: top;\n",
       "    }\n",
       "\n",
       "    .dataframe thead th {\n",
       "        text-align: right;\n",
       "    }\n",
       "</style>\n",
       "<table border=\"1\" class=\"dataframe\">\n",
       "  <thead>\n",
       "    <tr style=\"text-align: right;\">\n",
       "      <th></th>\n",
       "      <th>customerID</th>\n",
       "      <th>gender</th>\n",
       "      <th>SeniorCitizen</th>\n",
       "      <th>Partner</th>\n",
       "      <th>Dependents</th>\n",
       "      <th>PhoneService</th>\n",
       "      <th>MultipleLines</th>\n",
       "      <th>InternetService</th>\n",
       "      <th>OnlineSecurity</th>\n",
       "      <th>OnlineBackup</th>\n",
       "      <th>DeviceProtection</th>\n",
       "      <th>TechSupport</th>\n",
       "      <th>StreamingTV</th>\n",
       "      <th>StreamingMovies</th>\n",
       "      <th>Contract</th>\n",
       "      <th>PaperlessBilling</th>\n",
       "      <th>PaymentMethod</th>\n",
       "      <th>Churn</th>\n",
       "    </tr>\n",
       "  </thead>\n",
       "  <tbody>\n",
       "    <tr>\n",
       "      <th>count</th>\n",
       "      <td>7043</td>\n",
       "      <td>7043</td>\n",
       "      <td>7043</td>\n",
       "      <td>7043</td>\n",
       "      <td>7043</td>\n",
       "      <td>7043</td>\n",
       "      <td>7043</td>\n",
       "      <td>7043</td>\n",
       "      <td>7043</td>\n",
       "      <td>7043</td>\n",
       "      <td>7043</td>\n",
       "      <td>7043</td>\n",
       "      <td>7043</td>\n",
       "      <td>7043</td>\n",
       "      <td>7043</td>\n",
       "      <td>7043</td>\n",
       "      <td>7043</td>\n",
       "      <td>7043</td>\n",
       "    </tr>\n",
       "    <tr>\n",
       "      <th>unique</th>\n",
       "      <td>7043</td>\n",
       "      <td>2</td>\n",
       "      <td>2</td>\n",
       "      <td>2</td>\n",
       "      <td>2</td>\n",
       "      <td>2</td>\n",
       "      <td>3</td>\n",
       "      <td>3</td>\n",
       "      <td>3</td>\n",
       "      <td>3</td>\n",
       "      <td>3</td>\n",
       "      <td>3</td>\n",
       "      <td>3</td>\n",
       "      <td>3</td>\n",
       "      <td>3</td>\n",
       "      <td>2</td>\n",
       "      <td>4</td>\n",
       "      <td>2</td>\n",
       "    </tr>\n",
       "    <tr>\n",
       "      <th>top</th>\n",
       "      <td>7590-VHVEG</td>\n",
       "      <td>Male</td>\n",
       "      <td>no</td>\n",
       "      <td>No</td>\n",
       "      <td>No</td>\n",
       "      <td>Yes</td>\n",
       "      <td>No</td>\n",
       "      <td>Fiber optic</td>\n",
       "      <td>No</td>\n",
       "      <td>No</td>\n",
       "      <td>No</td>\n",
       "      <td>No</td>\n",
       "      <td>No</td>\n",
       "      <td>No</td>\n",
       "      <td>Month-to-month</td>\n",
       "      <td>Yes</td>\n",
       "      <td>Electronic check</td>\n",
       "      <td>No</td>\n",
       "    </tr>\n",
       "    <tr>\n",
       "      <th>freq</th>\n",
       "      <td>1</td>\n",
       "      <td>3555</td>\n",
       "      <td>5901</td>\n",
       "      <td>3641</td>\n",
       "      <td>4933</td>\n",
       "      <td>6361</td>\n",
       "      <td>3390</td>\n",
       "      <td>3096</td>\n",
       "      <td>3498</td>\n",
       "      <td>3088</td>\n",
       "      <td>3095</td>\n",
       "      <td>3473</td>\n",
       "      <td>2810</td>\n",
       "      <td>2785</td>\n",
       "      <td>3875</td>\n",
       "      <td>4171</td>\n",
       "      <td>2365</td>\n",
       "      <td>5174</td>\n",
       "    </tr>\n",
       "  </tbody>\n",
       "</table>\n",
       "</div>"
      ],
      "text/plain": [
       "        customerID gender SeniorCitizen Partner Dependents PhoneService  \\\n",
       "count         7043   7043          7043    7043       7043         7043   \n",
       "unique        7043      2             2       2          2            2   \n",
       "top     7590-VHVEG   Male            no      No         No          Yes   \n",
       "freq             1   3555          5901    3641       4933         6361   \n",
       "\n",
       "       MultipleLines InternetService OnlineSecurity OnlineBackup  \\\n",
       "count           7043            7043           7043         7043   \n",
       "unique             3               3              3            3   \n",
       "top               No     Fiber optic             No           No   \n",
       "freq            3390            3096           3498         3088   \n",
       "\n",
       "       DeviceProtection TechSupport StreamingTV StreamingMovies  \\\n",
       "count              7043        7043        7043            7043   \n",
       "unique                3           3           3               3   \n",
       "top                  No          No          No              No   \n",
       "freq               3095        3473        2810            2785   \n",
       "\n",
       "              Contract PaperlessBilling     PaymentMethod Churn  \n",
       "count             7043             7043              7043  7043  \n",
       "unique               3                2                 4     2  \n",
       "top     Month-to-month              Yes  Electronic check    No  \n",
       "freq              3875             4171              2365  5174  "
      ]
     },
     "execution_count": 31,
     "metadata": {},
     "output_type": "execute_result"
    }
   ],
   "source": [
    "# check summary statistics for all categorical columns\n",
    "\n",
    "df.describe(include='object')"
   ]
  },
  {
   "cell_type": "markdown",
   "id": "5225e30f-2998-495a-8b5e-8f1552bfcbcf",
   "metadata": {},
   "source": [
    "## 3. Exploratory Data Analysis (EDA)"
   ]
  },
  {
   "cell_type": "code",
   "execution_count": 34,
   "id": "db3ab6e5-6407-480c-b5f9-8da261bfeeaa",
   "metadata": {},
   "outputs": [
    {
     "data": {
      "text/plain": [
       "Churn\n",
       "No     5174\n",
       "Yes    1869\n",
       "Name: count, dtype: int64"
      ]
     },
     "execution_count": 34,
     "metadata": {},
     "output_type": "execute_result"
    }
   ],
   "source": [
    "# Number of customer that have churned\n",
    "\n",
    "df['Churn'].value_counts()"
   ]
  },
  {
   "cell_type": "code",
   "execution_count": 36,
   "id": "77eac743-f06e-49e3-a2d5-67279c5471aa",
   "metadata": {},
   "outputs": [
    {
     "data": {
      "image/png": "[encoded data removed]",
      "text/plain": [
       "<Figure size 640x480 with 1 Axes>"
      ]
     },
     "metadata": {},
     "output_type": "display_data"
    }
   ],
   "source": [
    "# Count plot showing the number of customers that have churned out\n",
    "\n",
    "ax = sns.countplot(x='Churn', data=df)\n",
    "plt.title(\"Count of customers by churn\")\n",
    "ax.bar_label(ax.containers[0])\n",
    "plt.show()"
   ]
  },
  {
   "cell_type": "code",
   "execution_count": 38,
   "id": "0ab8a7ab-db93-454c-82ca-75f338013515",
   "metadata": {},
   "outputs": [
    {
     "data": {
      "image/png": "[encoded data removed]",
      "text/plain": [
       "<Figure size 640x480 with 1 Axes>"
      ]
     },
     "metadata": {},
     "output_type": "display_data"
    }
   ],
   "source": [
    "# Pie chart to view the percentage of customers that have churned out or not\n",
    "\n",
    "df['Churn'].value_counts(normalize=True).plot(kind='pie', autopct='%1.2f%%')\n",
    "plt.title(\"Percentage of churned customers\")\n",
    "plt.show()"
   ]
  },
  {
   "cell_type": "markdown",
   "id": "03f76826-9848-4f88-b756-9c2b8c19b77d",
   "metadata": {},
   "source": [
    "From our analysis,we have found that 1869 customers which is 26.54% of the customers have churned in total."
   ]
  },
  {
   "cell_type": "code",
   "execution_count": 41,
   "id": "2e408d98-82c9-4458-9dc6-6ce8c5f40414",
   "metadata": {},
   "outputs": [
    {
     "data": {
      "image/png": "[encoded data removed]",
      "text/plain": [
       "<Figure size 640x480 with 1 Axes>"
      ]
     },
     "metadata": {},
     "output_type": "display_data"
    }
   ],
   "source": [
    "# Explore churn by gender\n",
    "# count plot to visualize churn by gender\n",
    "# How many male and female customers have churned\n",
    "\n",
    "sns.countplot(x='gender', hue='Churn', data=df)\n",
    "plt.title(\"Churn by Gender\")\n",
    "plt.show()"
   ]
  },
  {
   "cell_type": "markdown",
   "id": "03e4e806-890f-474e-bc50-ef62c71b06db",
   "metadata": {},
   "source": [
    "We can see also equal amount customers have churned, and it is not gender specific. For Telco, Gender of the customer does not correlated with customer churn."
   ]
  },
  {
   "cell_type": "code",
   "execution_count": 44,
   "id": "7ab97cb7-6208-414f-bece-6d7a15d33dec",
   "metadata": {},
   "outputs": [
    {
     "data": {
      "image/png": "[encoded data removed]",
      "text/plain": [
       "<Figure size 640x480 with 1 Axes>"
      ]
     },
     "metadata": {},
     "output_type": "display_data"
    }
   ],
   "source": [
    "# By Senior Citizen Status\n",
    "# count plot to visualize churn by senior citizen\n",
    "# How many senior customers have churned\n",
    "\n",
    "ax = sns.countplot(x='SeniorCitizen', hue='Churn', data=df)\n",
    "ax.bar_label(ax.containers[0])\n",
    "ax.bar_label(ax.containers[1])\n",
    "plt.title(\"Churn by Senior Citizen\")\n",
    "\n",
    "plt.show()"
   ]
  },
  {
   "cell_type": "markdown",
   "id": "32b1cfb9-3166-4c85-ac7e-28ac5b073b94",
   "metadata": {},
   "source": [
    "We find that there is a higher churn rate if a customer is a senior citizen comparatively when a customer is not a senior citizen."
   ]
  },
  {
   "cell_type": "code",
   "execution_count": 47,
   "id": "96f96edf-5e87-4dc6-99a8-096e2a427e76",
   "metadata": {},
   "outputs": [
    {
     "data": {
      "image/png": "[encoded data removed]",
      "text/plain": [
       "<Figure size 640x480 with 1 Axes>"
      ]
     },
     "metadata": {},
     "output_type": "display_data"
    }
   ],
   "source": [
    "# create a stack plot to find churn in senior citizens\n",
    "\n",
    "senior_churn = df.groupby('SeniorCitizen')['Churn'].value_counts(normalize=True).unstack() * 100\n",
    "ax = senior_churn.plot(kind='bar', stacked=True)\n",
    "plt.title(\"Churn Rate by Senior Citizen\")\n",
    "plt.xlabel(\"Senior Citizen\")\n",
    "plt.ylabel(\"Churn Rate (%)\")\n",
    "\n",
    "# Annotate bars with percentages\n",
    "for p in ax.patches:\n",
    "    width, height = p.get_width(), p.get_height()\n",
    "    x, y = p.get_xy()\n",
    "    ax.text(x + width/2,\n",
    "            y + height/2,\n",
    "            '{:.1f}%'.format(height),\n",
    "            ha='center',\n",
    "            va='center')\n",
    "\n",
    "plt.show()"
   ]
  },
  {
   "cell_type": "markdown",
   "id": "f85bc74c-8140-458d-b195-ac971d5c4e5c",
   "metadata": {},
   "source": [
    "So the churn rate in senior citizen in approx 42%, compared to approx 24% when the customer is not a senior citizen. Comparatively a greater percentage of people that are snior citizen have churned."
   ]
  },
  {
   "cell_type": "code",
   "execution_count": 50,
   "id": "e6a39b47-7ffd-4ee9-aa27-87e4bb548b70",
   "metadata": {},
   "outputs": [
    {
     "data": {
      "image/png": "[encoded data removed]",
      "text/plain": [
       "<Figure size 1000x600 with 1 Axes>"
      ]
     },
     "metadata": {},
     "output_type": "display_data"
    }
   ],
   "source": [
    "# Tenure Analysis\n",
    "# Histogram to visualize tenure distribution\n",
    "\n",
    "plt.figure(figsize=(10, 6))\n",
    "sns.histplot(x='tenure', hue='Churn', data=df, bins=70)\n",
    "plt.title(\"Tenure Distribution by Churn\")\n",
    "plt.show()"
   ]
  },
  {
   "cell_type": "markdown",
   "id": "638061c2-66d4-4cc3-9e18-be3bf3bfeed3",
   "metadata": {},
   "source": [
    "From the histogram, we can see that the most of the customers have churned in the first month. There are customers that have stayed with the company for 72 months (6 years). The majority of churn rate is in the initial days that the customer signed up for the service. People using the services for longer periods of time have not churned and people in their first or second month have churned. May be people have stayed with the company depending on the contract they have signed up with Telco. People with longer contracts stay with the company."
   ]
  },
  {
   "cell_type": "code",
   "execution_count": 53,
   "id": "3996efc1-e9d5-4515-81c2-8fdcd72c3195",
   "metadata": {},
   "outputs": [
    {
     "data": {
      "image/png": "[encoded data removed]",
      "text/plain": [
       "<Figure size 640x480 with 1 Axes>"
      ]
     },
     "metadata": {},
     "output_type": "display_data"
    }
   ],
   "source": [
    "# Contract Type Analysis\n",
    "# Count plot to visualize the churn rate by contract type\n",
    "\n",
    "ax = sns.countplot(x='Contract', hue='Churn', data=df)\n",
    "ax.bar_label(ax.containers[0])\n",
    "ax.bar_label(ax.containers[1])\n",
    "plt.title(\"Churn by Contract Type\")\n",
    "plt.show()"
   ]
  },
  {
   "cell_type": "markdown",
   "id": "e2ee3efb-a817-4701-94b8-8b5e79d0305f",
   "metadata": {},
   "source": [
    "From the above visualization we can see that the majority of the customer at Telco are signed up for a month-to-month plan followed by two-year plan. The month-to-month customer have the highest churn rate as well. The customers enrolled in a 2 yr plan have the least churn rate. There is an oppurtunity for Telco reduce churn rate by converting the month to month customers to a 1 yr or 2 yr plan."
   ]
  },
  {
   "cell_type": "markdown",
   "id": "d748f0a3-07ca-4dab-ae02-edc0b2272914",
   "metadata": {},
   "source": [
    "##  4. Statistical Analysis"
   ]
  },
  {
   "cell_type": "markdown",
   "id": "6f6dd718-d34e-4f55-88ec-93d65e3e19f6",
   "metadata": {},
   "source": [
    "#### Step 1: Testing Numerical Features with a T-Test\n",
    "\n",
    "We'll start by testing whether the means of MonthlyCharges differ between churned and non-churned customers.\n",
    "\n",
    "Hypotheses:\n",
    "\n",
    "Null Hypothesis (H₀): There is no association between the monthly charges and the customer churn rate.\n",
    "\n",
    "Alternative Hypothesis (H₁): There is a statistically significant association between the monthly charges of churned and non-churned customers\n"
   ]
  },
  {
   "cell_type": "code",
   "execution_count": 58,
   "id": "09a6f090-94f1-4a2c-a82a-ebfe24ed1d8e",
   "metadata": {},
   "outputs": [
    {
     "name": "stdout",
     "output_type": "stream",
     "text": [
      "T-Test for MonthlyCharges: t-statistic = 16.536738015936308, p-value = 2.7066456068884154e-60\n"
     ]
    }
   ],
   "source": [
    "# Separate churned and non-churned customers\n",
    "churned = df[df['Churn'] == 'Yes']['MonthlyCharges']\n",
    "not_churned = df[df['Churn'] == 'No']['MonthlyCharges']\n",
    "\n",
    "# Perform independent t-test\n",
    "t_stat, p_value = ttest_ind(churned, not_churned)\n",
    "print(f\"T-Test for MonthlyCharges: t-statistic = {t_stat}, p-value = {p_value}\")"
   ]
  },
  {
   "cell_type": "markdown",
   "id": "39c0ec4a-7625-43ad-93fd-c5911011829b",
   "metadata": {},
   "source": [
    "We get t-statistic of 16.54 and the p-value of 2.71e-60 which is extremely small, much less than the common significance level of 𝛼 = 0.05 α=0.05. \n",
    "\n",
    "This result suggests that Monthly Charges play a significant role in customer churn for the telecommunications company. \n",
    "\n",
    "The large t-statistic indicates a substantial difference in average Monthly Charges between customers who churned and those who did not.\n",
    "\n",
    "This means we reject the null hypothesis and There is a statistically significant difference in mean Monthly Charges between churned and non-churned customers\n",
    "\n",
    "Conclusion: \n",
    "\n",
    "Customers who churn have significantly different MonthlyCharges compared to those who do not churn. Next, we can calculate and visualize the mean charges for both groups to better understand the direction of the difference."
   ]
  },
  {
   "cell_type": "code",
   "execution_count": 61,
   "id": "dec9a614-bc0f-4376-a469-dd60083df001",
   "metadata": {},
   "outputs": [
    {
     "name": "stdout",
     "output_type": "stream",
     "text": [
      "Monthly charges of non-churned customers: $61.27\n",
      "Monthly charges of churned customers: $74.44\n",
      "\n"
     ]
    },
    {
     "data": {
      "image/png": "[encoded data removed]",
      "text/plain": [
       "<Figure size 640x480 with 1 Axes>"
      ]
     },
     "metadata": {},
     "output_type": "display_data"
    }
   ],
   "source": [
    "# Code to Visualize Mean Charges\n",
    "mean_charges = df.groupby('Churn')['MonthlyCharges'].mean()\n",
    "\n",
    "print(f\"Monthly charges of non-churned customers: ${mean_charges[0]:.2f}\")\n",
    "print(f\"Monthly charges of churned customers: ${mean_charges[1]:.2f}\\n\")\n",
    "\n",
    "# Visualize using a bar plot\n",
    "mean_charges.plot(kind='bar', color=['orange', 'blue'])\n",
    "plt.title('Average Monthly Charges by Churn Status')\n",
    "plt.ylabel('Average Monthly Charges')\n",
    "plt.xlabel('Churn Status')\n",
    "plt.xticks(rotation=0)\n",
    "plt.show()\n"
   ]
  },
  {
   "cell_type": "markdown",
   "id": "3b210815-2b0a-436e-8c65-5fc15c39f22f",
   "metadata": {},
   "source": [
    "Interpretation of Mean Charges by Churn Status \n",
    "\n",
    "Churned Customers: The average MonthlyCharges for customers who churned is $74.44. \n",
    "\n",
    "Non-Churned Customers: The average MonthlyCharges for customers who did not churn is $61.27. Difference:\n",
    "\n",
    "Customers who churned pay, on average, $13.17 more per month compared to those who stayed. \n",
    "\n",
    "What Does This Mean for the Business? \n",
    "\n",
    "Higher Charges Increase Churn Risk: Customers with higher monthly charges are more likely to churn. \n",
    "\n",
    "This insight suggests that the company may want to:\n",
    "\n",
    "- Offer targeted discounts or promotions to retain them. \n",
    "- Explore ways to reduce the monthly charges for these customers (e.g., bundle services or loyalty rewards)."
   ]
  },
  {
   "cell_type": "markdown",
   "id": "e78f072d-afdf-49cd-9554-3c238cdaa74d",
   "metadata": {},
   "source": [
    "#### Step 2: Testing Associations with Categorical Features Using Chi-Square\n",
    "Now, we’ll test if there is a significant association between churn and Contract type.\n",
    "\n",
    "Hypotheses\n",
    "Null Hypothesis (H₀): There is no association between the contract type and the customer churn rate.\n",
    "\n",
    "Alternative Hypothesis (H₁): There is a significant association between contract type and customer churn rate."
   ]
  },
  {
   "cell_type": "code",
   "execution_count": 65,
   "id": "df3a961c-276e-4abf-8511-aab889ecf1e5",
   "metadata": {},
   "outputs": [
    {
     "name": "stdout",
     "output_type": "stream",
     "text": [
      "Chi-Square Test for Contract: chi2 = 1184.5965720837926, p-value = 5.863038300673391e-258\n"
     ]
    }
   ],
   "source": [
    "# Create contingency table for Contract and Churn\n",
    "contingency_table = pd.crosstab(df['Contract'], df['Churn'])\n",
    "\n",
    "# Perform Chi-Square test\n",
    "chi2, p, dof, expected = chi2_contingency(contingency_table)\n",
    "print(f\"Chi-Square Test for Contract: chi2 = {chi2}, p-value = {p}\")"
   ]
  },
  {
   "cell_type": "markdown",
   "id": "35839784-da10-4c2a-9ec9-f24a1d2e3315",
   "metadata": {},
   "source": [
    "Test Statistic: The Chi-Square statistic of 1184.60 is quite large, which indicates a strong association between the variables \"Contract\" and \"Churn.\"\n",
    "\n",
    "P-value: The p-value of 5.86e-258 is extremely small, far below the commonly used significance level (α) of 0.05.\n",
    "\n",
    "This means we reject the null hypothesis: There is a statistically significant association between Contract and Churn. \n",
    "\n",
    "Since the p-value is significantly smaller than 0.05, we reject the null hypothesis and conclude that there is sufficient evidence to support the claim that \"Contract\" and \"Churn\" are dependent variables. In other words, the type of contract a customer has is statistically associated with whether they churn or not.\n",
    "\n",
    "Conclusion:\n",
    "\n",
    "The type of contract a customer has (e.g., month-to-month, one-year, or two-year) is significantly associated with their likelihood of churning. Customers with certain contract types are more likely to churn than others."
   ]
  },
  {
   "cell_type": "code",
   "execution_count": 68,
   "id": "4158c0db-2801-48f5-af31-0ac4fe44f96c",
   "metadata": {},
   "outputs": [
    {
     "data": {
      "image/png": "[encoded data removed]",
      "text/plain": [
       "<Figure size 640x480 with 1 Axes>"
      ]
     },
     "metadata": {},
     "output_type": "display_data"
    }
   ],
   "source": [
    "# Let’s explore how Contract types differ in their churn rates.\n",
    "\n",
    "# Create a stacked bar plot for Contract and Churn\n",
    "contract_churn = df.groupby('Contract')['Churn'].value_counts(normalize=True).unstack() * 100\n",
    "\n",
    "# Plot the churn rate by Contract type\n",
    "contract_churn.plot(kind='bar', stacked=True, color=['orange', 'blue'])\n",
    "plt.title('Churn Rate by Contract Type')\n",
    "plt.xlabel('Contract Type')\n",
    "plt.ylabel('Percentage')\n",
    "plt.legend(title='Churn', loc='upper right', bbox_to_anchor=(1.10, 1))\n",
    "\n",
    "plt.show()"
   ]
  },
  {
   "cell_type": "markdown",
   "id": "520fa146-60c8-4ab1-969c-065314e0daf4",
   "metadata": {},
   "source": [
    "Interpretation of the Visualization From the stacked bar chart of Contract type and Churn:\n",
    "\n",
    "Month-to-Month Contracts:\n",
    "\n",
    "A high proportion of churners are evident in this category. This flexibility allows customers to terminate the service easily, making churn more frequent.\n",
    "\n",
    "One-Year Contracts:\n",
    "\n",
    "Churn is significantly lower compared to month-to-month contracts. Commitment over one year may reduce the likelihood of churn.\n",
    "\n",
    "Two-Year Contracts:\n",
    "\n",
    "This category exhibits the lowest churn rate. Customers in this group are less likely to leave, as long-term contracts often include discounts and require a higher level of commitment. Key Takeaways Customer retention is highly influenced by contract type.\n",
    "\n",
    "Insights:\n",
    "\n",
    "Month-to-month contracts are a significant churn risk. Longer contract durations (one-year or two-year) correlate with higher customer retention. This insight aligns with the chi-square test, showing a strong relationship between Contract type and churn."
   ]
  },
  {
   "cell_type": "markdown",
   "id": "f725c999-e81b-440d-a752-419e8b06f6e7",
   "metadata": {},
   "source": [
    "#### Step 3: Testing Associations with Categorical Features Using Chi-Square\n",
    "\n",
    "Now, we’ll test if there is a significant association between churn and InternetService.\n",
    "\n",
    "Hypotheses\n",
    "Null Hypothesis (H₀): There is no association between the InternetSerive type and the customer churn rate.\n",
    "\n",
    "Alternative Hypothesis (H₁): There is a significant association between InternetSerive type and customer churn rate."
   ]
  },
  {
   "cell_type": "code",
   "execution_count": 72,
   "id": "a430b218-0aee-48ba-8668-da88e4705bf7",
   "metadata": {},
   "outputs": [
    {
     "name": "stdout",
     "output_type": "stream",
     "text": [
      "Chi-Square Test for Contract: chi2 = 732.309589667794, p-value = 9.571788222840544e-160\n"
     ]
    }
   ],
   "source": [
    "# Create contingency table\n",
    "contingency_table = pd.crosstab(df['InternetService'], df['Churn'])\n",
    "\n",
    "# Perform Chi-Square test\n",
    "chi2, p, dof, expected = chi2_contingency(contingency_table)\n",
    "print(f\"Chi-Square Test for Contract: chi2 = {chi2}, p-value = {p}\")"
   ]
  },
  {
   "cell_type": "code",
   "execution_count": 74,
   "id": "c6560fc0-7fcf-404a-838a-a627e73db1f8",
   "metadata": {},
   "outputs": [
    {
     "name": "stdout",
     "output_type": "stream",
     "text": [
      "Churn              No   Yes\n",
      "InternetService            \n",
      "DSL              1962   459\n",
      "Fiber optic      1799  1297\n",
      "No               1413   113\n"
     ]
    }
   ],
   "source": [
    "\n",
    "# Display contingency table\n",
    "print(contingency_table)"
   ]
  },
  {
   "cell_type": "code",
   "execution_count": 76,
   "id": "4f84fded-12a7-436e-8c98-543a6c785f39",
   "metadata": {},
   "outputs": [
    {
     "data": {
      "image/png": "[encoded data removed]",
      "text/plain": [
       "<Figure size 640x480 with 1 Axes>"
      ]
     },
     "metadata": {},
     "output_type": "display_data"
    }
   ],
   "source": [
    "# Let’s explore how InternetService types differ in their churn rates. \n",
    "# We can visualize the data to understand which groups drive the relationship.\n",
    "\n",
    "# Create a stacked bar plot for InternetService and Churn\n",
    "contract_churn = df.groupby('InternetService')['Churn'].value_counts(normalize=True).unstack() * 100\n",
    "\n",
    "# Plot the churn rate by Contract type\n",
    "contract_churn.plot(kind='bar', stacked=True, color=['orange', 'blue'])\n",
    "plt.title('Churn Rate by InternetService Type')\n",
    "plt.xlabel('InternetService Type')\n",
    "plt.ylabel('Percentage')\n",
    "plt.legend(title='Churn', loc='upper right',bbox_to_anchor=(1.10, 1))\n",
    "plt.show()"
   ]
  },
  {
   "cell_type": "markdown",
   "id": "eea1c8c2-28be-4737-824a-473899f42c14",
   "metadata": {},
   "source": [
    "Our analysis reveals a significant association between Internet Service type and churn, with customers using Fiber Optic showing the highest churn rates. This suggests that potential issues either with service dissatisfaction or higher costs that the customers may be experiencing. To address this, the company should focus on investigating service quality issues and offer better technical support for Fiber Optics users to improve customer retention and reduce churn. "
   ]
  },
  {
   "cell_type": "code",
   "execution_count": null,
   "id": "50751ea5-eef5-436b-9ed6-99b949bf359e",
   "metadata": {},
   "outputs": [],
   "source": []
  }
 ],
 "metadata": {
  "kernelspec": {
   "display_name": "Python 3 (ipykernel)",
   "language": "python",
   "name": "python3"
  },
  "language_info": {
   "codemirror_mode": {
    "name": "ipython",
    "version": 3
   },
   "file_extension": ".py",
   "mimetype": "text/x-python",
   "name": "python",
   "nbconvert_exporter": "python",
   "pygments_lexer": "ipython3",
   "version": "3.12.7"
  }
 },
 "nbformat": 4,
 "nbformat_minor": 5
}
